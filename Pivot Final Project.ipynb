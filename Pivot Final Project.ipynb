{
  "nbformat": 4,
  "nbformat_minor": 0,
  "metadata": {
    "colab": {
      "provenance": []
    },
    "kernelspec": {
      "name": "python3",
      "display_name": "Python 3"
    },
    "language_info": {
      "name": "python"
    }
  },
  "cells": [
    {
      "cell_type": "code",
      "execution_count": null,
      "metadata": {
        "id": "MBdQbWJHnLcJ"
      },
      "outputs": [],
      "source": [
        "import pandas as pd\n",
        "from sklearn.model_selection import train_test_split\n",
        "from sklearn.preprocessing import StandardScaler, LabelEncoder\n",
        "from sklearn.ensemble import RandomForestClassifier\n",
        "from sklearn.metrics import classification_report, accuracy_score\n",
        "import numpy as np"
      ]
    },
    {
      "cell_type": "code",
      "source": [
        "file_path = 'ObesityDataSet_raw_and_data_sinthetic 3.xlsx'  # Update this to the path of your Excel file\n",
        "data = pd.read_excel(file_path)"
      ],
      "metadata": {
        "id": "brKYVRO0nQQL"
      },
      "execution_count": null,
      "outputs": []
    },
    {
      "cell_type": "code",
      "source": [
        "label_encoders = {}\n",
        "for column in data.select_dtypes(include=['object']).columns:\n",
        "    le = LabelEncoder()\n",
        "    data[column] = le.fit_transform(data[column])\n",
        "    label_encoders[column] = le"
      ],
      "metadata": {
        "id": "mE7C3uLbnVvh"
      },
      "execution_count": null,
      "outputs": []
    },
    {
      "cell_type": "code",
      "source": [
        "X = data.drop('NObeyesdad', axis=1)\n",
        "y = data['NObeyesdad']"
      ],
      "metadata": {
        "id": "GcxTgaGonY1w"
      },
      "execution_count": null,
      "outputs": []
    },
    {
      "cell_type": "code",
      "source": [
        "X_train, X_test, y_train, y_test = train_test_split(X, y, test_size=0.2, random_state=42)"
      ],
      "metadata": {
        "id": "jKKy9quIna9R"
      },
      "execution_count": null,
      "outputs": []
    },
    {
      "cell_type": "code",
      "source": [
        "scaler = StandardScaler()\n",
        "X_train_scaled = scaler.fit_transform(X_train)\n",
        "X_test_scaled = scaler.transform(X_test)"
      ],
      "metadata": {
        "id": "iK1yXKsUnct5"
      },
      "execution_count": null,
      "outputs": []
    },
    {
      "cell_type": "code",
      "source": [
        "rf_classifier = RandomForestClassifier(random_state=42)\n",
        "rf_classifier.fit(X_train_scaled, y_train)"
      ],
      "metadata": {
        "colab": {
          "base_uri": "https://localhost:8080/",
          "height": 74
        },
        "id": "ZWjjAKnAnerl",
        "outputId": "70d1b2e9-c34a-4412-d669-3757080207da"
      },
      "execution_count": null,
      "outputs": [
        {
          "output_type": "execute_result",
          "data": {
            "text/plain": [
              "RandomForestClassifier(random_state=42)"
            ],
            "text/html": [
              "<style>#sk-container-id-1 {color: black;background-color: white;}#sk-container-id-1 pre{padding: 0;}#sk-container-id-1 div.sk-toggleable {background-color: white;}#sk-container-id-1 label.sk-toggleable__label {cursor: pointer;display: block;width: 100%;margin-bottom: 0;padding: 0.3em;box-sizing: border-box;text-align: center;}#sk-container-id-1 label.sk-toggleable__label-arrow:before {content: \"▸\";float: left;margin-right: 0.25em;color: #696969;}#sk-container-id-1 label.sk-toggleable__label-arrow:hover:before {color: black;}#sk-container-id-1 div.sk-estimator:hover label.sk-toggleable__label-arrow:before {color: black;}#sk-container-id-1 div.sk-toggleable__content {max-height: 0;max-width: 0;overflow: hidden;text-align: left;background-color: #f0f8ff;}#sk-container-id-1 div.sk-toggleable__content pre {margin: 0.2em;color: black;border-radius: 0.25em;background-color: #f0f8ff;}#sk-container-id-1 input.sk-toggleable__control:checked~div.sk-toggleable__content {max-height: 200px;max-width: 100%;overflow: auto;}#sk-container-id-1 input.sk-toggleable__control:checked~label.sk-toggleable__label-arrow:before {content: \"▾\";}#sk-container-id-1 div.sk-estimator input.sk-toggleable__control:checked~label.sk-toggleable__label {background-color: #d4ebff;}#sk-container-id-1 div.sk-label input.sk-toggleable__control:checked~label.sk-toggleable__label {background-color: #d4ebff;}#sk-container-id-1 input.sk-hidden--visually {border: 0;clip: rect(1px 1px 1px 1px);clip: rect(1px, 1px, 1px, 1px);height: 1px;margin: -1px;overflow: hidden;padding: 0;position: absolute;width: 1px;}#sk-container-id-1 div.sk-estimator {font-family: monospace;background-color: #f0f8ff;border: 1px dotted black;border-radius: 0.25em;box-sizing: border-box;margin-bottom: 0.5em;}#sk-container-id-1 div.sk-estimator:hover {background-color: #d4ebff;}#sk-container-id-1 div.sk-parallel-item::after {content: \"\";width: 100%;border-bottom: 1px solid gray;flex-grow: 1;}#sk-container-id-1 div.sk-label:hover label.sk-toggleable__label {background-color: #d4ebff;}#sk-container-id-1 div.sk-serial::before {content: \"\";position: absolute;border-left: 1px solid gray;box-sizing: border-box;top: 0;bottom: 0;left: 50%;z-index: 0;}#sk-container-id-1 div.sk-serial {display: flex;flex-direction: column;align-items: center;background-color: white;padding-right: 0.2em;padding-left: 0.2em;position: relative;}#sk-container-id-1 div.sk-item {position: relative;z-index: 1;}#sk-container-id-1 div.sk-parallel {display: flex;align-items: stretch;justify-content: center;background-color: white;position: relative;}#sk-container-id-1 div.sk-item::before, #sk-container-id-1 div.sk-parallel-item::before {content: \"\";position: absolute;border-left: 1px solid gray;box-sizing: border-box;top: 0;bottom: 0;left: 50%;z-index: -1;}#sk-container-id-1 div.sk-parallel-item {display: flex;flex-direction: column;z-index: 1;position: relative;background-color: white;}#sk-container-id-1 div.sk-parallel-item:first-child::after {align-self: flex-end;width: 50%;}#sk-container-id-1 div.sk-parallel-item:last-child::after {align-self: flex-start;width: 50%;}#sk-container-id-1 div.sk-parallel-item:only-child::after {width: 0;}#sk-container-id-1 div.sk-dashed-wrapped {border: 1px dashed gray;margin: 0 0.4em 0.5em 0.4em;box-sizing: border-box;padding-bottom: 0.4em;background-color: white;}#sk-container-id-1 div.sk-label label {font-family: monospace;font-weight: bold;display: inline-block;line-height: 1.2em;}#sk-container-id-1 div.sk-label-container {text-align: center;}#sk-container-id-1 div.sk-container {/* jupyter's `normalize.less` sets `[hidden] { display: none; }` but bootstrap.min.css set `[hidden] { display: none !important; }` so we also need the `!important` here to be able to override the default hidden behavior on the sphinx rendered scikit-learn.org. See: https://github.com/scikit-learn/scikit-learn/issues/21755 */display: inline-block !important;position: relative;}#sk-container-id-1 div.sk-text-repr-fallback {display: none;}</style><div id=\"sk-container-id-1\" class=\"sk-top-container\"><div class=\"sk-text-repr-fallback\"><pre>RandomForestClassifier(random_state=42)</pre><b>In a Jupyter environment, please rerun this cell to show the HTML representation or trust the notebook. <br />On GitHub, the HTML representation is unable to render, please try loading this page with nbviewer.org.</b></div><div class=\"sk-container\" hidden><div class=\"sk-item\"><div class=\"sk-estimator sk-toggleable\"><input class=\"sk-toggleable__control sk-hidden--visually\" id=\"sk-estimator-id-1\" type=\"checkbox\" checked><label for=\"sk-estimator-id-1\" class=\"sk-toggleable__label sk-toggleable__label-arrow\">RandomForestClassifier</label><div class=\"sk-toggleable__content\"><pre>RandomForestClassifier(random_state=42)</pre></div></div></div></div></div>"
            ]
          },
          "metadata": {},
          "execution_count": 8
        }
      ]
    },
    {
      "cell_type": "code",
      "source": [
        "y_pred = rf_classifier.predict(X_test_scaled)\n",
        "accuracy = accuracy_score(y_test, y_pred)\n",
        "classification_rep = classification_report(y_test, y_pred)"
      ],
      "metadata": {
        "id": "Cky9N8KunhLB"
      },
      "execution_count": null,
      "outputs": []
    },
    {
      "cell_type": "code",
      "source": [
        "print(\"Accuracy:\", accuracy)\n",
        "print(\"Classification Report:\")\n",
        "print(classification_rep)"
      ],
      "metadata": {
        "colab": {
          "base_uri": "https://localhost:8080/"
        },
        "id": "_4Q58CgPnjsm",
        "outputId": "d2554f53-f94b-43ce-b9f1-91ed9d149354"
      },
      "execution_count": null,
      "outputs": [
        {
          "output_type": "stream",
          "name": "stdout",
          "text": [
            "Accuracy: 0.8416075650118203\n",
            "Classification Report:\n",
            "              precision    recall  f1-score   support\n",
            "\n",
            "           0       0.93      0.93      0.93        56\n",
            "           1       0.67      0.82      0.74        62\n",
            "           2       0.83      0.83      0.83        78\n",
            "           3       0.86      0.95      0.90        58\n",
            "           4       1.00      1.00      1.00        63\n",
            "           5       0.76      0.70      0.73        56\n",
            "           6       0.89      0.62      0.73        50\n",
            "\n",
            "    accuracy                           0.84       423\n",
            "   macro avg       0.85      0.84      0.84       423\n",
            "weighted avg       0.85      0.84      0.84       423\n",
            "\n"
          ]
        }
      ]
    },
    {
      "cell_type": "code",
      "source": [
        "# Group data by 'NObeyesdad' column and calculate mean for numerical attributes\n",
        "obesity_grouped = data.groupby('NObeyesdad').mean()"
      ],
      "metadata": {
        "id": "1GZjPeBenllU"
      },
      "execution_count": null,
      "outputs": []
    },
    {
      "cell_type": "code",
      "source": [
        "obesity_grouped.reset_index(inplace=True)"
      ],
      "metadata": {
        "id": "1_2O0AYup4vO"
      },
      "execution_count": null,
      "outputs": []
    },
    {
      "cell_type": "code",
      "source": [
        "# Display the result\n",
        "print(obesity_grouped)\n",
        "\n",
        "# Optionally, save the result to an Excel file\n",
        "obesity_grouped.to_excel('result.xlsx', index=False)"
      ],
      "metadata": {
        "colab": {
          "base_uri": "https://localhost:8080/"
        },
        "id": "wQiuxaqmp7TO",
        "outputId": "7e413ded-6c40-43ef-fcbb-604a816a802a"
      },
      "execution_count": null,
      "outputs": [
        {
          "output_type": "stream",
          "name": "stdout",
          "text": [
            "   NObeyesdad    Gender        Age  family_history_with_overweight      FAVC  \\\n",
            "0           0  0.363971  19.783237                        0.463235  0.812500   \n",
            "1           1  0.508711  21.738676                        0.540070  0.724739   \n",
            "2           2  0.555556  25.884941                        0.980057  0.968661   \n",
            "3           3  0.993266  28.233785                        0.996633  0.976431   \n",
            "4           4  0.003086  23.495554                        1.000000  0.996914   \n",
            "5           5  0.500000  23.417674                        0.720690  0.924138   \n",
            "6           6  0.644828  26.996981                        0.937931  0.744828   \n",
            "\n",
            "       FCVC       NCP      CAEC     SMOKE      CH2O       SCC       FAF  \\\n",
            "0  2.480788  2.914403  1.551471  0.003676  1.871281  0.080882  1.250131   \n",
            "1  2.334495  2.738676  1.501742  0.045296  1.850174  0.104530  1.247387   \n",
            "2  2.186050  2.431862  1.951567  0.017094  2.112218  0.005698  0.986748   \n",
            "3  2.391284  2.744555  1.986532  0.050505  1.877658  0.003367  0.971857   \n",
            "4  3.000000  3.000000  1.996914  0.003086  2.208493  0.000000  0.664817   \n",
            "5  2.264631  2.504218  2.037931  0.010345  2.058725  0.127586  1.056796   \n",
            "6  2.260578  2.495529  1.927586  0.017241  2.025133  0.013793  0.958072   \n",
            "\n",
            "        TUE      CALC    MTRANS  \n",
            "0  0.839459  2.426471  2.514706  \n",
            "1  0.675958  2.303136  2.592334  \n",
            "2  0.676743  2.430199  2.056980  \n",
            "3  0.515186  2.232323  2.037037  \n",
            "4  0.604623  2.003086  2.990741  \n",
            "5  0.612992  2.117241  2.331034  \n",
            "6  0.697275  2.375862  2.044828  \n"
          ]
        }
      ]
    },
    {
      "cell_type": "code",
      "source": [
        "pivot = pd.pivot_table(data, values=['Age', 'FCVC', 'NCP', 'CH2O', 'FAF', 'TUE'],\n",
        "                       index=['NObeyesdad'],\n",
        "                       aggfunc={'Age': [min, max, np.mean],\n",
        "                                'FCVC': np.mean,\n",
        "                                'NCP': np.mean,\n",
        "                                'CH2O': np.mean,\n",
        "                                'FAF': np.mean,\n",
        "                                'TUE': np.mean})"
      ],
      "metadata": {
        "id": "VjQ-JrayrNO6"
      },
      "execution_count": null,
      "outputs": []
    },
    {
      "cell_type": "code",
      "source": [
        "# Reset the index to turn grouped columns back into regular columns\n",
        "pivot.reset_index(inplace=True)"
      ],
      "metadata": {
        "id": "kTKUBz3_sd_u"
      },
      "execution_count": null,
      "outputs": []
    },
    {
      "cell_type": "code",
      "source": [
        "# Display the pivot table\n",
        "print(pivot)"
      ],
      "metadata": {
        "colab": {
          "base_uri": "https://localhost:8080/"
        },
        "id": "xfAUicnUsx8O",
        "outputId": "0f2e249e-d359-41d0-8cd2-ba6ec579c4a9"
      },
      "execution_count": null,
      "outputs": [
        {
          "output_type": "stream",
          "name": "stdout",
          "text": [
            "  NObeyesdad   Age                       CH2O       FAF      FCVC       NCP  \\\n",
            "               max       mean   min      mean      mean      mean      mean   \n",
            "0          0  39.0  19.783237  16.0  1.871281  1.250131  2.480788  2.914403   \n",
            "1          1  61.0  21.738676  14.0  1.850174  1.247387  2.334495  2.738676   \n",
            "2          2  52.0  25.884941  15.0  2.112218  0.986748  2.186050  2.431862   \n",
            "3          3  41.0  28.233785  20.0  1.877658  0.971857  2.391284  2.744555   \n",
            "4          4  26.0  23.495554  18.0  2.208493  0.664817  3.000000  3.000000   \n",
            "5          5  55.0  23.417674  16.0  2.058725  1.056796  2.264631  2.504218   \n",
            "6          6  56.0  26.996981  17.0  2.025133  0.958072  2.260578  2.495529   \n",
            "\n",
            "        TUE  \n",
            "       mean  \n",
            "0  0.839459  \n",
            "1  0.675958  \n",
            "2  0.676743  \n",
            "3  0.515186  \n",
            "4  0.604623  \n",
            "5  0.612992  \n",
            "6  0.697275  \n"
          ]
        }
      ]
    },
    {
      "cell_type": "code",
      "source": [],
      "metadata": {
        "id": "hitGBtC9s1Be"
      },
      "execution_count": null,
      "outputs": []
    }
  ]
}